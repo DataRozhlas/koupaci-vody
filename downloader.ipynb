{
 "cells": [
  {
   "cell_type": "code",
   "execution_count": 1,
   "metadata": {
    "collapsed": true
   },
   "outputs": [],
   "source": [
    "import json\n",
    "import urllib"
   ]
  },
  {
   "cell_type": "code",
   "execution_count": 2,
   "metadata": {
    "collapsed": true
   },
   "outputs": [],
   "source": [
    "resp = urllib.request.urlopen('http://geoportal.ksrzis.cz/mzdr-api/api/BathingPlace').read().decode('utf-8')\n",
    "jsn = json.loads(resp)\n",
    "\n",
    "places = {}\n",
    "\n",
    "for feature in jsn[\"features\"]:\n",
    "    fID = feature[\"attributes\"][\"id\"]\n",
    "    title = feature[\"attributes\"][\"title\"]\n",
    "    x = feature[\"geometry\"][\"x\"]\n",
    "    y = feature[\"geometry\"][\"y\"]\n",
    "    \n",
    "    places[fID] = {'id': fID, 'title': title, 'x': x, 'y': y}"
   ]
  },
  {
   "cell_type": "code",
   "execution_count": 23,
   "metadata": {
    "collapsed": false
   },
   "outputs": [],
   "source": [
    "for place in places:\n",
    "    resp = urllib.request.urlopen('http://geoportal.ksrzis.cz/mzdr-api/api/BathingPlace/' + str(place)).read().decode('utf-8')\n",
    "    jsn = json.loads(resp)\n",
    "    places[place]['evaluations'] = jsn['evaluations']"
   ]
  },
  {
   "cell_type": "code",
   "execution_count": 24,
   "metadata": {
    "collapsed": true
   },
   "outputs": [],
   "source": [
    "with open('data/mereni.json', 'w') as f:\n",
    "    json.dump(places, f, ensure_ascii=False)"
   ]
  }
 ],
 "metadata": {
  "kernelspec": {
   "display_name": "Python 3",
   "language": "python",
   "name": "python3"
  },
  "language_info": {
   "codemirror_mode": {
    "name": "ipython",
    "version": 3
   },
   "file_extension": ".py",
   "mimetype": "text/x-python",
   "name": "python",
   "nbconvert_exporter": "python",
   "pygments_lexer": "ipython3",
   "version": "3.4.3"
  }
 },
 "nbformat": 4,
 "nbformat_minor": 0
}
